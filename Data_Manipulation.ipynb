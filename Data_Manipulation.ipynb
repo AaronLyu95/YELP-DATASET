{
 "cells": [
  {
   "cell_type": "code",
   "execution_count": null,
   "id": "917377da",
   "metadata": {},
   "outputs": [],
   "source": [
    "import pandas as pd\n",
    "import os\n",
    "import ast\n",
    "import numpy as np\n",
    "import pickle\n",
    "from datetime import datetime"
   ]
  },
  {
   "cell_type": "code",
   "execution_count": null,
   "id": "49cf772f",
   "metadata": {},
   "outputs": [],
   "source": [
    "path = 'C:/Users/HEN1/Projects/YELP_DATASET/DATA'\n",
    "file_names = ['yelp_academic_dataset_business.json', \n",
    "              'yelp_academic_dataset_checkin.json',\n",
    "              'yelp_academic_dataset_review.json', \n",
    "              'yelp_academic_dataset_tip.json', \n",
    "              'yelp_academic_dataset_user.json', \n",
    "              'yelp_academic_dataset_review_notext.csv']\n",
    "files = [os.path.join(path, f) for f in file_names]"
   ]
  },
  {
   "cell_type": "code",
   "execution_count": null,
   "id": "224c27ab",
   "metadata": {},
   "outputs": [],
   "source": [
    "\n",
    "df_business = pd.read_json(files[0], lines=True)\n",
    "#df_checkin = pd.read_json(files[1], lines=True)\n",
    "#df_tip = pd.read_json(files[3], lines=True)\n"
   ]
  },
  {
   "cell_type": "code",
   "execution_count": null,
   "id": "a440bc5c",
   "metadata": {},
   "outputs": [],
   "source": [
    "\n",
    "# An error in dataset\n",
    "df_business.loc[129241,'state'] = 'BC'"
   ]
  },
  {
   "cell_type": "code",
   "execution_count": null,
   "id": "80666bff",
   "metadata": {},
   "outputs": [],
   "source": [
    "df_review = pd.read_json(files[2], lines=True)\n",
    "df_review = df_review.drop(columns=['useful', 'funny', 'cool', 'text'])\n",
    "output_file = 'yelp_academic_dataset_review_notext.csv'\n",
    "output = os.path.join(path, output_file)\n",
    "df_review.to_csv(output)"
   ]
  },
  {
   "cell_type": "code",
   "execution_count": null,
   "id": "740cfc33",
   "metadata": {},
   "outputs": [],
   "source": [
    "df_review = pd.read_csv(files[5], index_col=0, low_memory=True)"
   ]
  },
  {
   "cell_type": "code",
   "execution_count": null,
   "id": "aa601618",
   "metadata": {},
   "outputs": [],
   "source": [
    "df_user = pd.read_json(files[4], lines=True)"
   ]
  },
  {
   "cell_type": "code",
   "execution_count": null,
   "id": "1ace706d",
   "metadata": {},
   "outputs": [],
   "source": [
    "# Get restaurants in business dataset\n",
    "df_rest = df_business[df_business['categories'].str.contains('Restaurant.*')==True].reset_index()\n",
    "df_rest = df_rest.drop(columns = 'index')"
   ]
  },
  {
   "cell_type": "code",
   "execution_count": null,
   "id": "8a94913e",
   "metadata": {},
   "outputs": [],
   "source": [
    "df_rest_name = df_rest[['business_id', 'name']]\n",
    "df_rest_name"
   ]
  },
  {
   "cell_type": "code",
   "execution_count": null,
   "id": "ef491b1f",
   "metadata": {},
   "outputs": [],
   "source": [
    "df_rest = pd.concat([df_rest.drop(['attributes'], axis=1), df_rest['attributes'].apply(pd.Series)], axis=1)"
   ]
  },
  {
   "cell_type": "code",
   "execution_count": null,
   "id": "40c6303d",
   "metadata": {},
   "outputs": [],
   "source": [
    "df_rest = df_rest.dropna(axis=1,thresh=len(df_bn1)*0.1)"
   ]
  },
  {
   "cell_type": "code",
   "execution_count": null,
   "id": "afe01711",
   "metadata": {},
   "outputs": [],
   "source": [
    "df_rest.info()"
   ]
  },
  {
   "cell_type": "code",
   "execution_count": null,
   "id": "c87e1cb7",
   "metadata": {},
   "outputs": [],
   "source": [
    "df_rest['BusinessParking']=df_rest['BusinessParking'].apply(lambda x: ast.literal_eval(x) if (np.all(pd.notnull(x))) else x)"
   ]
  },
  {
   "cell_type": "code",
   "execution_count": null,
   "id": "4fa5d39e",
   "metadata": {},
   "outputs": [],
   "source": [
    "df_rest = pd.concat([df_rest.drop(['BusinessParking'], axis=1), df_rest['BusinessParking'].apply(pd.Series)], axis=1)"
   ]
  },
  {
   "cell_type": "code",
   "execution_count": null,
   "id": "385eb8f1",
   "metadata": {},
   "outputs": [],
   "source": [
    "df_rest = df_rest.drop(columns = 0)"
   ]
  },
  {
   "cell_type": "code",
   "execution_count": null,
   "id": "d37539a5",
   "metadata": {},
   "outputs": [],
   "source": [
    "df_rest = pd.concat([df_rest.drop(['hours'], axis=1), df_rest['hours'].apply(pd.Series)], axis=1)"
   ]
  },
  {
   "cell_type": "code",
   "execution_count": null,
   "id": "f67b8051",
   "metadata": {},
   "outputs": [],
   "source": [
    "df_rest['Ambience']=df_rest['Ambience'].apply(lambda x: ast.literal_eval(x) if (np.all(pd.notnull(x))) else x)\n",
    "df_rest['GoodForMeal']=df_rest['GoodForMeal'].apply(lambda x: ast.literal_eval(x) if (np.all(pd.notnull(x))) else x)"
   ]
  },
  {
   "cell_type": "code",
   "execution_count": null,
   "id": "e12d4bf9",
   "metadata": {},
   "outputs": [],
   "source": [
    "df_rest = pd.concat([df_rest.drop(['Ambience'], axis=1), df_rest['Ambience'].apply(pd.Series)], axis=1)\n",
    "df_rest = pd.concat([df_rest.drop(['GoodForMeal'], axis=1), df_rest['GoodForMeal'].apply(pd.Series)], axis=1)"
   ]
  },
  {
   "cell_type": "code",
   "execution_count": null,
   "id": "e4d37a86",
   "metadata": {},
   "outputs": [],
   "source": [
    "df_rest['Music']=df_rest['Music'].apply(lambda x: ast.literal_eval(x) if (np.all(pd.notnull(x))) else x)\n",
    "df_rest = pd.concat([df_rest.drop(['Music'], axis=1), df_rest['Music'].apply(pd.Series)], axis=1)"
   ]
  },
  {
   "cell_type": "code",
   "execution_count": null,
   "id": "7dcbdc95",
   "metadata": {},
   "outputs": [],
   "source": [
    "df_rest = df_rest.drop(columns = 0)"
   ]
  },
  {
   "cell_type": "code",
   "execution_count": null,
   "id": "14c11655",
   "metadata": {},
   "outputs": [],
   "source": [
    "df_categories_dummies = pd.Series(df_rest['categories']).str.get_dummies(',')\n",
    "df_categories_dummies = df_categories_dummies.astype('category')\n",
    "df_rest = pd.concat([df_rest.drop(['categories'], axis=1), df_categories_dummies], axis=1)"
   ]
  },
  {
   "cell_type": "code",
   "execution_count": null,
   "id": "20d5c261",
   "metadata": {},
   "outputs": [],
   "source": [
    "tf_col = ['RestaurantsTableService', 'BikeParking', 'BusinessAcceptsCreditCards', 'RestaurantsReservations', 'WheelchairAccessible', 'Caters',\n",
    "          'OutdoorSeating', 'RestaurantsGoodForGroups', 'HappyHour', 'BusinessAcceptsBitcoin', 'HasTV', 'DogsAllowed', \n",
    "          'RestaurantsTakeOut','RestaurantsDelivery', 'GoodForKids', 'lot', 'street', 'valet', 'validated',\n",
    "          'casual', 'classy', 'divey', 'hipster', 'intimate', 'romantic', 'touristy', 'trendy', 'upscale', 'breakfast', \n",
    "          'brunch', 'dessert', 'dinner', 'latenight', 'lunch', 'background_music', 'dj', 'jukebox', 'karaoke', 'live', 'no_music', \n",
    "          'video', 'garage'] \n",
    "cat_col = list(df_rest.select_dtypes(include=['object']).columns)"
   ]
  },
  {
   "cell_type": "code",
   "execution_count": null,
   "id": "23d5351c",
   "metadata": {},
   "outputs": [],
   "source": [
    "d = {'True': 'True', 'False': 'False', 'None':np.nan, True: 'True', False: 'False'}\n",
    "for col in tf_col: \n",
    "    df_rest[col] = df_rest[col].map(d)\n"
   ]
  },
  {
   "cell_type": "code",
   "execution_count": null,
   "id": "e665ccd8",
   "metadata": {},
   "outputs": [],
   "source": [
    "week_col = ['Monday', 'Tuesday', 'Wednesday', 'Thursday', 'Friday', 'Saturday', 'Sunday']\n",
    "df_rest = df_rest.drop(columns=week_col)"
   ]
  },
  {
   "cell_type": "code",
   "execution_count": null,
   "id": "c1b36243",
   "metadata": {},
   "outputs": [],
   "source": [
    "wifi_d = {\"u'free'\": 'free', \"'free'\": 'free', \"u'paid'\": 'paid', \"'paid'\": 'paid', \"u'no'\": 'no', \"'no'\": 'no', 'None': np.nan}\n",
    "df_rest['WiFi'] = df_rest['WiFi'].map(wifi_d)"
   ]
  },
  {
   "cell_type": "code",
   "execution_count": null,
   "id": "ed258ce9",
   "metadata": {},
   "outputs": [],
   "source": [
    "Alcohol_d = {\"'beer_and_wine'\": 'beer_and_wine', \"u'beer_and_wine'\": 'beer_and_wine', \n",
    "             \"'full_bar'\": 'full_bar', \"u'full_bar'\": 'full_bar', \n",
    "             \"u'none'\": 'no', \"'none'\": 'no', \n",
    "             'None': np.nan}\n",
    "df_rest['Alcohol'] = df_rest['Alcohol'].map(Alcohol_d)"
   ]
  },
  {
   "cell_type": "code",
   "execution_count": null,
   "id": "507177c7",
   "metadata": {},
   "outputs": [],
   "source": [
    "NoiseLevel_d = {\"u'average'\": 'average', \"'average'\": 'average', \n",
    "                \"u'quiet'\": 'quiet', \"'quiet'\": 'quiet', \n",
    "                \"'loud'\": 'loud', \"u'loud'\": 'loud', \n",
    "                \"u'very_loud'\":'very_loud' , \"'very_loud'\": 'very_loud',\n",
    "                'None': np.nan}\n",
    "df_rest['NoiseLevel'] = df_rest['NoiseLevel'].map(NoiseLevel_d)"
   ]
  },
  {
   "cell_type": "code",
   "execution_count": null,
   "id": "2fbd147a",
   "metadata": {},
   "outputs": [],
   "source": [
    "RestaurantsAttire_d = {\"'casual'\": 'casual', \"u'casual'\": 'casual', \n",
    "                       \"u'dressy'\": 'dressy', \"'dressy'\": 'dressy', \n",
    "                       \"u'formal'\": 'formal', \"'formal'\": 'formal', \n",
    "                       'None': np.nan}\n",
    "df_rest['RestaurantsAttire'] = df_rest['RestaurantsAttire'].map(RestaurantsAttire_d)"
   ]
  },
  {
   "cell_type": "code",
   "execution_count": null,
   "id": "ad0d46ca",
   "metadata": {},
   "outputs": [],
   "source": [
    "RestaurantsPriceRange2_d = {1.0:1, 2.0:2, 3.0:3, 4.0:4, '1':1, '2':2, '3':3, '4':4, 'None':np.nan}\n",
    "df_rest['RestaurantsPriceRange2'] = df_rest['RestaurantsPriceRange2'].map(RestaurantsPriceRange2_d)"
   ]
  },
  {
   "cell_type": "code",
   "execution_count": null,
   "id": "ca3a4346",
   "metadata": {},
   "outputs": [],
   "source": [
    "for col in tf_col: \n",
    "    df_dummies = pd.get_dummies(df_rest[col], prefix=col)\n",
    "    df_dummies = df_dummies.astype('category')\n",
    "    df_rest = pd.concat([df_rest.drop([col], axis=1), df_dummies], axis=1)"
   ]
  },
  {
   "cell_type": "code",
   "execution_count": null,
   "id": "a21c29a5",
   "metadata": {},
   "outputs": [],
   "source": [
    "level_col = ['WiFi', 'Alcohol', 'NoiseLevel', 'RestaurantsAttire', 'RestaurantsPriceRange2' ]\n",
    "\n",
    "for col in level_col: \n",
    "    df_dummies = pd.get_dummies(df_rest[col], prefix=col)\n",
    "    df_dummies = df_dummies.astype('category')\n",
    "    df_rest = pd.concat([df_rest.drop([col], axis=1), df_dummies], axis=1)"
   ]
  },
  {
   "cell_type": "code",
   "execution_count": null,
   "id": "e6b9d1d9",
   "metadata": {},
   "outputs": [],
   "source": [
    "df_rest['is_open'] = df_rest['is_open'].astype('category')"
   ]
  },
  {
   "cell_type": "code",
   "execution_count": null,
   "id": "fb77e189",
   "metadata": {},
   "outputs": [],
   "source": [
    "df_rest.info(memory_usage='deep')"
   ]
  },
  {
   "cell_type": "code",
   "execution_count": null,
   "id": "42aee9aa",
   "metadata": {},
   "outputs": [],
   "source": [
    "df_rest = df_rest.drop(columns=['name', 'address'])"
   ]
  },
  {
   "cell_type": "code",
   "execution_count": null,
   "id": "ca603d88",
   "metadata": {},
   "outputs": [],
   "source": [
    "df_rest_van_id = df_rest[(df_rest['city']=='Vancouver') & (df_rest['state']=='BC')][['business_id']]"
   ]
  },
  {
   "cell_type": "code",
   "execution_count": null,
   "id": "ee6880f3",
   "metadata": {},
   "outputs": [],
   "source": []
  },
  {
   "cell_type": "code",
   "execution_count": null,
   "id": "f83e7640",
   "metadata": {},
   "outputs": [],
   "source": [
    "df_review = df_review[df_review['business_id'].isin(df_rest_van_id['business_id'])]"
   ]
  },
  {
   "cell_type": "code",
   "execution_count": null,
   "id": "c2c79574",
   "metadata": {},
   "outputs": [],
   "source": [
    "df_review = df_review.join(df_rest.set_index('business_id'), on='business_id')"
   ]
  },
  {
   "cell_type": "code",
   "execution_count": null,
   "id": "182bb60d",
   "metadata": {},
   "outputs": [],
   "source": [
    "df_review['date'] = pd.to_datetime(df_review['date'], format='%Y%m%d %H:%M:%S')"
   ]
  },
  {
   "cell_type": "code",
   "execution_count": null,
   "id": "b49157d2",
   "metadata": {},
   "outputs": [],
   "source": []
  },
  {
   "cell_type": "code",
   "execution_count": null,
   "id": "8f71468d",
   "metadata": {},
   "outputs": [],
   "source": []
  },
  {
   "cell_type": "code",
   "execution_count": null,
   "id": "52444834",
   "metadata": {},
   "outputs": [],
   "source": [
    "df_user = df_user[['user_id', 'review_count', 'yelping_since', 'useful', 'funny', 'cool', 'elite']]\n",
    "df_user['elite'] = df_user.elite.str.split(',')\n",
    "df_user['yelping_since'] = pd.to_datetime(df_user['yelping_since'], format='%Y%m%d %H:%M:%S')\n",
    "df_user = df_user.rename(columns={'review_count':'use_review_count'})"
   ]
  },
  {
   "cell_type": "code",
   "execution_count": null,
   "id": "77f43ce6",
   "metadata": {},
   "outputs": [],
   "source": []
  },
  {
   "cell_type": "code",
   "execution_count": null,
   "id": "2ff755bc",
   "metadata": {},
   "outputs": [],
   "source": [
    "df_review = df_review.join(df_user.set_index('user_id'), on='user_id')\n",
    "is_elite = df_review.apply(lambda row: 1 if (str(row['date'].year) in row['elite']) else 0, axis =1)\n",
    "is_elite = is_elite.astype('category')\n",
    "df_review = pd.concat([df_review.drop(['elite'], axis=1), is_elite], axis=1)\n",
    "df_review = df_review.rename(columns={0:'is_elite'})"
   ]
  },
  {
   "cell_type": "code",
   "execution_count": null,
   "id": "40f6f1c1",
   "metadata": {},
   "outputs": [],
   "source": [
    "df_review = df_review.drop(columns=['review_id', 'city', 'state'])"
   ]
  },
  {
   "cell_type": "code",
   "execution_count": null,
   "id": "fca59e6f",
   "metadata": {},
   "outputs": [],
   "source": [
    "obj_col = df_review.select_dtypes(include=['object']).columns\n",
    "cat = df_review[obj_col].astype('category')\n",
    "df_review[obj_col] = cat"
   ]
  },
  {
   "cell_type": "code",
   "execution_count": null,
   "id": "f43ea2ad",
   "metadata": {},
   "outputs": [],
   "source": []
  },
  {
   "cell_type": "code",
   "execution_count": null,
   "id": "a3118430",
   "metadata": {},
   "outputs": [],
   "source": []
  },
  {
   "cell_type": "code",
   "execution_count": null,
   "id": "138bac31",
   "metadata": {},
   "outputs": [],
   "source": [
    "\n",
    "output_file = 'yelp.pkl'\n",
    "output = os.path.join(path, output_file)\n",
    "with open(output, 'wb') as file:\n",
    "    pickle.dump(df_review, file)\n",
    "    "
   ]
  },
  {
   "cell_type": "code",
   "execution_count": null,
   "id": "fcc8d086",
   "metadata": {},
   "outputs": [],
   "source": []
  },
  {
   "cell_type": "code",
   "execution_count": null,
   "id": "946dbf46",
   "metadata": {},
   "outputs": [],
   "source": []
  },
  {
   "cell_type": "code",
   "execution_count": null,
   "id": "8ab0ce15",
   "metadata": {},
   "outputs": [],
   "source": []
  },
  {
   "cell_type": "code",
   "execution_count": null,
   "id": "44a381b0",
   "metadata": {},
   "outputs": [],
   "source": []
  },
  {
   "cell_type": "code",
   "execution_count": null,
   "id": "07a01412",
   "metadata": {},
   "outputs": [],
   "source": []
  },
  {
   "cell_type": "code",
   "execution_count": null,
   "id": "ce37ecd8",
   "metadata": {},
   "outputs": [],
   "source": []
  },
  {
   "cell_type": "code",
   "execution_count": null,
   "id": "faa91e8a",
   "metadata": {},
   "outputs": [],
   "source": []
  },
  {
   "cell_type": "code",
   "execution_count": null,
   "id": "3607d02b",
   "metadata": {},
   "outputs": [],
   "source": []
  },
  {
   "cell_type": "code",
   "execution_count": null,
   "id": "867637e8",
   "metadata": {},
   "outputs": [],
   "source": []
  },
  {
   "cell_type": "code",
   "execution_count": null,
   "id": "8ef10ed7",
   "metadata": {},
   "outputs": [],
   "source": []
  },
  {
   "cell_type": "code",
   "execution_count": null,
   "id": "ca920579",
   "metadata": {},
   "outputs": [],
   "source": []
  },
  {
   "cell_type": "code",
   "execution_count": null,
   "id": "f20f134e",
   "metadata": {},
   "outputs": [],
   "source": []
  },
  {
   "cell_type": "code",
   "execution_count": null,
   "id": "8cb5ecf0",
   "metadata": {},
   "outputs": [],
   "source": []
  },
  {
   "cell_type": "code",
   "execution_count": null,
   "id": "d1a83c14",
   "metadata": {},
   "outputs": [],
   "source": []
  },
  {
   "cell_type": "code",
   "execution_count": null,
   "id": "9b805d2d",
   "metadata": {},
   "outputs": [],
   "source": []
  },
  {
   "cell_type": "code",
   "execution_count": null,
   "id": "cc93430a",
   "metadata": {},
   "outputs": [],
   "source": []
  }
 ],
 "metadata": {
  "kernelspec": {
   "display_name": "Python 3 (ipykernel)",
   "language": "python",
   "name": "python3"
  },
  "language_info": {
   "codemirror_mode": {
    "name": "ipython",
    "version": 3
   },
   "file_extension": ".py",
   "mimetype": "text/x-python",
   "name": "python",
   "nbconvert_exporter": "python",
   "pygments_lexer": "ipython3",
   "version": "3.9.5"
  }
 },
 "nbformat": 4,
 "nbformat_minor": 5
}
